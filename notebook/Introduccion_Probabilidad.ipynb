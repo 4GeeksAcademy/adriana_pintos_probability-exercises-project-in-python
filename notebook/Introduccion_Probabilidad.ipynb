{
 "cells": [
  {
   "cell_type": "code",
   "execution_count": 1,
   "id": "143c5ef2-99a4-42cd-a74b-85506796d8c2",
   "metadata": {},
   "outputs": [],
   "source": [
    "import pandas as pd\n"
   ]
  },
  {
   "cell_type": "markdown",
   "id": "d6693b34-ef09-4673-a5bf-c2324844fee9",
   "metadata": {},
   "source": [
    "# 1. Espacio muestral del lanzamiento de un dado"
   ]
  },
  {
   "cell_type": "code",
   "execution_count": 2,
   "id": "99878570-3b96-4015-827f-8b12562a0a4e",
   "metadata": {},
   "outputs": [],
   "source": [
    "# 1. Espacio muestral del lanzamiento de un dado\n",
    "espacio_muestral = pd.Series([1, 2, 3, 4, 5, 6])"
   ]
  },
  {
   "cell_type": "code",
   "execution_count": 3,
   "id": "733b69d0-521e-49f5-b926-f3ef271afc1d",
   "metadata": {},
   "outputs": [
    {
     "data": {
      "text/plain": [
       "0    1\n",
       "1    2\n",
       "2    3\n",
       "3    4\n",
       "4    5\n",
       "5    6\n",
       "dtype: int64"
      ]
     },
     "execution_count": 3,
     "metadata": {},
     "output_type": "execute_result"
    }
   ],
   "source": [
    "espacio_muestral"
   ]
  },
  {
   "cell_type": "code",
   "execution_count": 4,
   "id": "2fb3d403-4607-482a-b362-2ee008b26ca5",
   "metadata": {},
   "outputs": [
    {
     "data": {
      "text/plain": [
       "pandas.core.series.Series"
      ]
     },
     "execution_count": 4,
     "metadata": {},
     "output_type": "execute_result"
    }
   ],
   "source": [
    "type(espacio_muestral)"
   ]
  },
  {
   "cell_type": "markdown",
   "id": "a3701bd8-0fe0-4d51-adf0-56bf2977bb02",
   "metadata": {},
   "source": [
    "# 2. Probabilidad de obtener un número par"
   ]
  },
  {
   "cell_type": "code",
   "execution_count": 5,
   "id": "7dd50118-6c25-44cb-87bb-1a371f825092",
   "metadata": {},
   "outputs": [],
   "source": [
    "# 2. Probabilidad de obtener un número par\n",
    "evento_par = espacio_muestral[espacio_muestral % 2 == 0]"
   ]
  },
  {
   "cell_type": "code",
   "execution_count": 6,
   "id": "7f4eb750-73dc-4a86-b8e1-e5e3ea22a3a7",
   "metadata": {},
   "outputs": [
    {
     "data": {
      "text/plain": [
       "1    2\n",
       "3    4\n",
       "5    6\n",
       "dtype: int64"
      ]
     },
     "execution_count": 6,
     "metadata": {},
     "output_type": "execute_result"
    }
   ],
   "source": [
    "evento_par"
   ]
  },
  {
   "cell_type": "code",
   "execution_count": 7,
   "id": "c414ff4b-8202-4a9f-8e4a-d52e08336aa9",
   "metadata": {},
   "outputs": [
    {
     "name": "stdout",
     "output_type": "stream",
     "text": [
      "Probabilidad de obtener un número par: 0.50\n"
     ]
    }
   ],
   "source": [
    "prob_par = len(evento_par) / len(espacio_muestral)\n",
    "print(f\"Probabilidad de obtener un número par: {prob_par:.2f}\")"
   ]
  },
  {
   "cell_type": "code",
   "execution_count": null,
   "id": "fae6cd85-ccce-4e7e-aa42-57106bf52c6e",
   "metadata": {},
   "outputs": [],
   "source": []
  },
  {
   "cell_type": "markdown",
   "id": "e31e5bcc-667d-4bee-b2c7-ae7119c4331d",
   "metadata": {},
   "source": [
    "# 3. Unión de sucesos (obtener un 2 o un 3)"
   ]
  },
  {
   "cell_type": "markdown",
   "id": "8fecd452-e603-478c-ae1c-9f7bd32b5751",
   "metadata": {},
   "source": [
    "![Imagen desde la web](https://raw.githubusercontent.com/4GeeksAcademy/machine-learning-content/refs/heads/master/assets/union.png)"
   ]
  },
  {
   "cell_type": "code",
   "execution_count": 8,
   "id": "8d1f1240-c410-400f-862f-79ce718665b7",
   "metadata": {},
   "outputs": [],
   "source": [
    "# 3. Unión de sucesos (obtener un 2 o un 3)\n",
    "evento_A = pd.Series([2])  # Obtener un 2\n",
    "evento_B = pd.Series([3])  # Obtener un 3"
   ]
  },
  {
   "cell_type": "code",
   "execution_count": 9,
   "id": "b8ca2079-2fc8-4931-aff7-6a41c23455d7",
   "metadata": {},
   "outputs": [],
   "source": [
    "union_AB = pd.concat([evento_A, evento_B]).unique()"
   ]
  },
  {
   "cell_type": "code",
   "execution_count": 10,
   "id": "c1b47d2b-9710-4e54-901f-4890ed88d278",
   "metadata": {},
   "outputs": [
    {
     "data": {
      "text/plain": [
       "array([2, 3], dtype=int64)"
      ]
     },
     "execution_count": 10,
     "metadata": {},
     "output_type": "execute_result"
    }
   ],
   "source": [
    "union_AB"
   ]
  },
  {
   "cell_type": "code",
   "execution_count": 11,
   "id": "d02ddc51-c3ec-461e-be81-aa5650473351",
   "metadata": {},
   "outputs": [
    {
     "data": {
      "text/plain": [
       "numpy.ndarray"
      ]
     },
     "execution_count": 11,
     "metadata": {},
     "output_type": "execute_result"
    }
   ],
   "source": [
    "type(union_AB)"
   ]
  },
  {
   "cell_type": "code",
   "execution_count": 12,
   "id": "68f0ca75-b8b4-4416-b1f3-45477822ec43",
   "metadata": {},
   "outputs": [
    {
     "name": "stdout",
     "output_type": "stream",
     "text": [
      "Probabilidad de obtener un 2 o un 3: 0.33\n"
     ]
    }
   ],
   "source": [
    "prob_union = len(union_AB) / len(espacio_muestral)\n",
    "print(f\"Probabilidad de obtener un 2 o un 3: {prob_union:.2f}\")"
   ]
  },
  {
   "cell_type": "code",
   "execution_count": null,
   "id": "91eb5d84-6b0d-4030-8d1c-c52c19749fc7",
   "metadata": {},
   "outputs": [],
   "source": []
  },
  {
   "cell_type": "markdown",
   "id": "bda37b29-3a9d-4149-b467-6cfd35353c5e",
   "metadata": {},
   "source": [
    "# 4. Intersección de sucesos (número < 4 y par)"
   ]
  },
  {
   "cell_type": "markdown",
   "id": "4950b227-d979-4d69-993c-fe3c6c9dd04e",
   "metadata": {},
   "source": [
    "![Imagen desde la web](https://raw.githubusercontent.com/4GeeksAcademy/machine-learning-content/refs/heads/master/assets/intersection.png)"
   ]
  },
  {
   "cell_type": "code",
   "execution_count": 13,
   "id": "4b8842ec-e2be-4b14-add5-19235c91c0aa",
   "metadata": {},
   "outputs": [],
   "source": [
    "# 4. Intersección de sucesos (número < 4 y par)\n",
    "evento_menor_4 = espacio_muestral[espacio_muestral < 4]"
   ]
  },
  {
   "cell_type": "code",
   "execution_count": 20,
   "id": "e767807f-3e65-4390-b9e7-0cc00917874b",
   "metadata": {},
   "outputs": [
    {
     "data": {
      "text/plain": [
       "0    1\n",
       "1    2\n",
       "2    3\n",
       "3    4\n",
       "4    5\n",
       "5    6\n",
       "dtype: int64"
      ]
     },
     "execution_count": 20,
     "metadata": {},
     "output_type": "execute_result"
    }
   ],
   "source": [
    "espacio_muestral"
   ]
  },
  {
   "cell_type": "code",
   "execution_count": 14,
   "id": "78f9319e-79ae-4dd2-9983-f28649217b8b",
   "metadata": {},
   "outputs": [
    {
     "data": {
      "text/plain": [
       "0    1\n",
       "1    2\n",
       "2    3\n",
       "dtype: int64"
      ]
     },
     "execution_count": 14,
     "metadata": {},
     "output_type": "execute_result"
    }
   ],
   "source": [
    "evento_menor_4"
   ]
  },
  {
   "cell_type": "code",
   "execution_count": null,
   "id": "f0c7457a-dc04-4485-99c7-5c5b428fa535",
   "metadata": {},
   "outputs": [],
   "source": []
  },
  {
   "cell_type": "code",
   "execution_count": 15,
   "id": "052cc24b-a251-4e7a-a757-263a006fc9b6",
   "metadata": {},
   "outputs": [],
   "source": [
    "evento_par = espacio_muestral[espacio_muestral % 2 == 0]"
   ]
  },
  {
   "cell_type": "code",
   "execution_count": null,
   "id": "49b5ddfd-3a1e-402b-a49b-d5219f992743",
   "metadata": {},
   "outputs": [],
   "source": []
  },
  {
   "cell_type": "code",
   "execution_count": 17,
   "id": "11d40fda-24a5-4b96-8621-0130bedcd7fd",
   "metadata": {},
   "outputs": [],
   "source": [
    "interseccion = evento_menor_4[evento_menor_4.isin(evento_par)]"
   ]
  },
  {
   "cell_type": "code",
   "execution_count": 18,
   "id": "0b0ed0e1-ffb8-47c0-8b2d-b0cc08cf0720",
   "metadata": {},
   "outputs": [
    {
     "data": {
      "text/plain": [
       "1    2\n",
       "dtype: int64"
      ]
     },
     "execution_count": 18,
     "metadata": {},
     "output_type": "execute_result"
    }
   ],
   "source": [
    "interseccion"
   ]
  },
  {
   "cell_type": "code",
   "execution_count": 19,
   "id": "af8353df-83fb-4d35-8225-7560a0bc3cc5",
   "metadata": {},
   "outputs": [
    {
     "name": "stdout",
     "output_type": "stream",
     "text": [
      "Probabilidad de obtener un número <4 y par: 0.17\n"
     ]
    }
   ],
   "source": [
    "prob_interseccion = len(interseccion) / len(espacio_muestral)\n",
    "print(f\"Probabilidad de obtener un número <4 y par: {prob_interseccion:.2f}\")"
   ]
  },
  {
   "cell_type": "markdown",
   "id": "471bf3e3-154a-4d5a-8511-9e72fda32127",
   "metadata": {},
   "source": [
    "# 5. Complemento de obtener un número par (es decir, obtener un número impar)"
   ]
  },
  {
   "cell_type": "markdown",
   "id": "521870b1-102e-4627-adec-ecd762e10890",
   "metadata": {},
   "source": [
    "![Imagen desde la web](https://raw.githubusercontent.com/4GeeksAcademy/machine-learning-content/refs/heads/master/assets/complement.png)"
   ]
  },
  {
   "cell_type": "code",
   "execution_count": 32,
   "id": "8063f502-7fce-48ce-9093-d1d14459a324",
   "metadata": {},
   "outputs": [],
   "source": [
    "# 5. Complemento de obtener un número par (es decir, obtener un número impar)\n",
    "evento_complemento = espacio_muestral[~espacio_muestral.isin(evento_par)]"
   ]
  },
  {
   "cell_type": "code",
   "execution_count": 33,
   "id": "fb3cca99-ab1f-4622-a985-339c2ec25b43",
   "metadata": {},
   "outputs": [
    {
     "data": {
      "text/plain": [
       "0    1\n",
       "2    3\n",
       "4    5\n",
       "dtype: int64"
      ]
     },
     "execution_count": 33,
     "metadata": {},
     "output_type": "execute_result"
    }
   ],
   "source": [
    "evento_complemento"
   ]
  },
  {
   "cell_type": "code",
   "execution_count": 34,
   "id": "93a5d47f-351a-4aec-bf8f-a720830092d4",
   "metadata": {},
   "outputs": [
    {
     "name": "stdout",
     "output_type": "stream",
     "text": [
      "Probabilidad de obtener un número impar: 0.50\n"
     ]
    }
   ],
   "source": [
    "prob_complemento = len(evento_complemento) / len(espacio_muestral)\n",
    "print(f\"Probabilidad de obtener un número impar: {prob_complemento:.2f}\")"
   ]
  },
  {
   "cell_type": "code",
   "execution_count": null,
   "id": "960a4c3d-7126-46c8-a9bb-67df7f115125",
   "metadata": {},
   "outputs": [],
   "source": []
  },
  {
   "cell_type": "markdown",
   "id": "facceb35-81b9-4a52-b88e-03683bb3a78d",
   "metadata": {},
   "source": [
    "# 6. Diferencia de sucesos (número < 4 sin ser par)"
   ]
  },
  {
   "cell_type": "markdown",
   "id": "f035069b-8769-4435-b1ac-a967185d8fcc",
   "metadata": {},
   "source": [
    "![Imagen desde la web](https://raw.githubusercontent.com/4GeeksAcademy/machine-learning-content/refs/heads/master/assets/difference.png)"
   ]
  },
  {
   "cell_type": "code",
   "execution_count": 39,
   "id": "5295afbc-a2a1-4f72-822d-9047b5ddf559",
   "metadata": {},
   "outputs": [],
   "source": [
    "# 6. Diferencia de sucesos (número < 4 sin ser par)\n",
    "diferencia = evento_menor_4[-evento_menor_4.isin(evento_par)]"
   ]
  },
  {
   "cell_type": "code",
   "execution_count": 40,
   "id": "163c7cfe-bbda-4076-853e-fdddd32cbb33",
   "metadata": {},
   "outputs": [
    {
     "data": {
      "text/plain": [
       "0    1\n",
       "2    3\n",
       "dtype: int64"
      ]
     },
     "execution_count": 40,
     "metadata": {},
     "output_type": "execute_result"
    }
   ],
   "source": [
    "diferencia"
   ]
  },
  {
   "cell_type": "code",
   "execution_count": null,
   "id": "01020be4-9ff8-4286-91f1-f154c6aa99a2",
   "metadata": {},
   "outputs": [],
   "source": []
  },
  {
   "cell_type": "code",
   "execution_count": 41,
   "id": "c1ad812a-44f5-405f-ac47-80482edd1062",
   "metadata": {},
   "outputs": [
    {
     "name": "stdout",
     "output_type": "stream",
     "text": [
      "Probabilidad de obtener un número <4 sin ser par: 0.33\n"
     ]
    }
   ],
   "source": [
    "prob_diferencia = len(diferencia) / len(espacio_muestral)\n",
    "print(f\"Probabilidad de obtener un número <4 sin ser par: {prob_diferencia:.2f}\")"
   ]
  },
  {
   "cell_type": "code",
   "execution_count": null,
   "id": "a26e280e-5f9a-4a12-922c-ffa53e8cda66",
   "metadata": {},
   "outputs": [],
   "source": []
  },
  {
   "cell_type": "markdown",
   "id": "e9211c37-a121-41f3-b51a-e61c916e69dd",
   "metadata": {},
   "source": [
    "# 7. Teorema de Bayes: Probabilidad de que la canica elegida sea roja dado que tiene rayas"
   ]
  },
  {
   "cell_type": "markdown",
   "id": "e1cb1328-2365-4a51-9946-eedefb983b78",
   "metadata": {},
   "source": [
    "![Imagen desde la web](https://aprendeconeli.com/wp-content/uploads/2022/01/sheldon-bayes.jpeg)"
   ]
  },
  {
   "cell_type": "markdown",
   "id": "10aae251-3cd2-407f-90c0-4d475d90fb3f",
   "metadata": {},
   "source": [
    "# P(A∣B)= P(B∣A)P(A) / P(B)"
   ]
  },
  {
   "cell_type": "markdown",
   "id": "6c55853c-ba3b-48f1-ab95-a423edef6879",
   "metadata": {},
   "source": [
    "En nuestro caso, identificamos:\n",
    "\n",
    "A: \"La canica es roja\".\n",
    "B: \"La canica tiene rayas\"."
   ]
  },
  {
   "cell_type": "code",
   "execution_count": 42,
   "id": "196116c7-7d2f-4340-8195-836175b9b92c",
   "metadata": {},
   "outputs": [],
   "source": [
    "# 8. Teorema de Bayes: Probabilidad de que la canica elegida sea roja dado que tiene rayas\n",
    "P_A = 30 / 100  # Probabilidad de que la canica sea roja (P(A))\n",
    "P_not_A = 70 / 100  # Probabilidad de que la canica sea azul (P(¬A))"
   ]
  },
  {
   "cell_type": "code",
   "execution_count": 43,
   "id": "5b70904c-8e00-437d-85e9-047cf4c39f1f",
   "metadata": {},
   "outputs": [
    {
     "data": {
      "text/plain": [
       "0.3"
      ]
     },
     "execution_count": 43,
     "metadata": {},
     "output_type": "execute_result"
    }
   ],
   "source": [
    "P_A"
   ]
  },
  {
   "cell_type": "code",
   "execution_count": 44,
   "id": "21287846-f581-4663-8727-0f99bd8df60b",
   "metadata": {},
   "outputs": [
    {
     "data": {
      "text/plain": [
       "0.7"
      ]
     },
     "execution_count": 44,
     "metadata": {},
     "output_type": "execute_result"
    }
   ],
   "source": [
    "P_not_A"
   ]
  },
  {
   "cell_type": "code",
   "execution_count": 45,
   "id": "3ef6ba5d-0fb1-4b0d-affa-958d0993bb4d",
   "metadata": {},
   "outputs": [],
   "source": [
    "P_B_given_A = 0.5  # Probabilidad de que una canica tenga rayas dado que es roja (P(B | A))\n",
    "P_B_given_not_A = 0.1  # Probabilidad de que una canica tenga rayas dado que es azul (P(B | ¬A))"
   ]
  },
  {
   "cell_type": "code",
   "execution_count": 46,
   "id": "b39a3b32-eef3-48e7-b20d-990088395662",
   "metadata": {},
   "outputs": [],
   "source": [
    "# Probabilidad total de que una canica tenga rayas (P(B))\n",
    "P_B = (P_A * P_B_given_A) + (P_not_A * P_B_given_not_A)"
   ]
  },
  {
   "cell_type": "code",
   "execution_count": 47,
   "id": "d2fbae71-cb91-4a66-82ab-79092bed2d79",
   "metadata": {},
   "outputs": [
    {
     "data": {
      "text/plain": [
       "0.21999999999999997"
      ]
     },
     "execution_count": 47,
     "metadata": {},
     "output_type": "execute_result"
    }
   ],
   "source": [
    "P_B"
   ]
  },
  {
   "cell_type": "code",
   "execution_count": 48,
   "id": "59a4f131-e76a-43fb-b648-ddbdfb243a1f",
   "metadata": {},
   "outputs": [
    {
     "name": "stdout",
     "output_type": "stream",
     "text": [
      "Probabilidad de que la canica sea roja dado que tiene rayas: 0.68\n"
     ]
    }
   ],
   "source": [
    "# Aplicamos el Teorema de Bayes para calcular P(A | B)\n",
    "P_A_given_B = (P_A * P_B_given_A) / P_B\n",
    "\n",
    "print(f\"Probabilidad de que la canica sea roja dado que tiene rayas: {P_A_given_B:.2f}\")"
   ]
  },
  {
   "cell_type": "code",
   "execution_count": null,
   "id": "e53dc393-f06e-4fa9-a193-b75090f6ed4f",
   "metadata": {},
   "outputs": [],
   "source": []
  }
 ],
 "metadata": {
  "kernelspec": {
   "display_name": "Python 3 (ipykernel)",
   "language": "python",
   "name": "python3"
  },
  "language_info": {
   "codemirror_mode": {
    "name": "ipython",
    "version": 3
   },
   "file_extension": ".py",
   "mimetype": "text/x-python",
   "name": "python",
   "nbconvert_exporter": "python",
   "pygments_lexer": "ipython3",
   "version": "3.12.7"
  }
 },
 "nbformat": 4,
 "nbformat_minor": 5
}
