{
 "cells": [
  {
   "cell_type": "markdown",
   "id": "a41f3622",
   "metadata": {},
   "source": [
    "# Ejercicios de probabilidad"
   ]
  },
  {
   "cell_type": "markdown",
   "id": "a6bdbd89",
   "metadata": {},
   "source": [
    "## Ejercicio 1 \n",
    "\n",
    "Dos dados se lanzan una vez y se observa el total obtenido. Usa una simulación para encontrar la probabilidad estimada de que la puntuación sea mayor a 7 o un número par. Una simulación es una repetición del mismo experimento multiples veces para observar su comportamiento:\n",
    "\n",
    "- Ejecuta el experimento 1000 veces (lanza 2 dados 1000 veces, y suma el número de ambos dados).\n",
    "- Lleva ua cuenta de los números y las veces que la suma fue mayor a 7 o un número par.\n",
    "- Divide el número del paso 2 entre el número de iteraciones(1000)."
   ]
  },
  {
   "cell_type": "code",
   "execution_count": 2,
   "id": "8939d892",
   "metadata": {},
   "outputs": [
    {
     "name": "stdout",
     "output_type": "stream",
     "text": [
      "la probabilidad de tener un numero par mayor que 7 es: 67.2%\n"
     ]
    }
   ],
   "source": [
    "# TODO\n",
    "import random\n",
    "import numpy as np\n",
    "\n",
    "def tirar_dados(total_simulaciones = 1000):\n",
    "    evento = 0\n",
    "\n",
    "    for i in range(total_simulaciones):\n",
    "\n",
    "        dado1 = random.randint(1,6)\n",
    "        dado2 = random.randint(1,6)\n",
    "       \n",
    "        suma = dado1 + dado2\n",
    "\n",
    "        if (suma > 7) or (suma % 2 == 0):\n",
    "            evento += 1\n",
    "    return evento / total_simulaciones\n",
    "print(f\"la probabilidad de tener un numero par mayor que 7 es: {np.round(tirar_dados() * 100, 2)}%\")\n",
    "\n"
   ]
  },
  {
   "cell_type": "markdown",
   "id": "55732bca",
   "metadata": {},
   "source": [
    "## Ejercicio 2\n",
    "\n",
    "Una caja contiene 10 bolas blancas, 20 bolas rojas y 30 bolas verdes. Si tomamos 5 bolas de la caja reemplazándolas (tomando una bola, anotando el color y luego regresandola a la caja). Queremos saber la probabilidad de:\n",
    "\n",
    "1. Tomar 3 blancas y 2 rojas.\n",
    "2. Toas todas del mismo color.\n",
    "\n",
    "Ejecuta el experimento 1000 veces y calcula las probabilidades que mencionadas."
   ]
  },
  {
   "cell_type": "code",
   "execution_count": 41,
   "id": "23244d20",
   "metadata": {},
   "outputs": [
    {
     "name": "stdout",
     "output_type": "stream",
     "text": [
      "3 blancas y 2 rojas 0.0\n",
      "Todas iguales 0.0\n"
     ]
    }
   ],
   "source": [
    "import random\n",
    "import numpy as np\n",
    "\n",
    "ball_box = {}\n",
    "\n",
    "# Crea la cajas con las bolas\n",
    "for i in range(60):\n",
    "    if i < 10:\n",
    "        ball_box[i] = \"White\"\n",
    "    elif (i > 9) and (i < 30):\n",
    "        ball_box[i] = \"Red\"\n",
    "    else:\n",
    "        ball_box[i] = \"Green\"\n",
    "\n",
    "\n",
    "    caso_1 =0\n",
    "    caso_2 =0\n",
    "\n",
    "for j in range(1000):\n",
    "    pick = []\n",
    "for i in range(5):\n",
    "    pick.append(ball_box[np.random.randint(0,60)])\n",
    "\n",
    "#3 blancas 2 rojas Caso 1#\n",
    "#todas iguales Caso 2#\n",
    "\n",
    "green = 0\n",
    "red = 0\n",
    "white = 0\n",
    "\n",
    "for i in pick:\n",
    "    if i == \"Green\":\n",
    "         green += 1\n",
    "    elif i == \"Red\":\n",
    "         red += 1\n",
    "    else:\n",
    "         white += 1\n",
    "\n",
    "if white == 3 and red == 2:\n",
    "    caso_1 += 1\n",
    "elif white == 5 or red == 5 or green == 5:\n",
    "    caso_2 += 1\n",
    "\n",
    "\n",
    "print(f\"3 blancas y 2 rojas {np.round((caso_1/1000)*100,2)}\")\n",
    "print(f\"Todas iguales {np.round((caso_2/1000)*100,2)}\")\n",
    "\n",
    "\n"
   ]
  }
 ],
 "metadata": {
  "kernelspec": {
   "display_name": "Python 3",
   "language": "python",
   "name": "python3"
  },
  "language_info": {
   "codemirror_mode": {
    "name": "ipython",
    "version": 3
   },
   "file_extension": ".py",
   "mimetype": "text/x-python",
   "name": "python",
   "nbconvert_exporter": "python",
   "pygments_lexer": "ipython3",
   "version": "3.11.4"
  }
 },
 "nbformat": 4,
 "nbformat_minor": 5
}
